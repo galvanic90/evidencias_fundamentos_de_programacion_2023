{
  "cells": [
    {
      "cell_type": "markdown",
      "source": [
        "**Construcción de una calculadora**"
      ],
      "metadata": {
        "id": "HdZcySgdbXeJ"
      }
    },
    {
      "cell_type": "markdown",
      "source": [
        "\n",
        "La calculadora consta de un menú principal que llama a la función get_list_numbers que corresponde a la lista de números que el usuario ingresaría separados por espacios, en esta lista hay dos posibles operaciones que se pueden realizar estás son: 1. que el usuario ingrese dos números 2. que el usuario ingrese más de dos números. Para la primera opción de dos números se pueden realizar operaciones matematicas como: sumas. diferencias,divisiones y división exacta, es decir todas las operaciones. Por otro lado, cuando se tienen más de dos números no se podrá realizar divisiones, restas. A continuación se describen las diferentes partes en las que se desagregó el problema.\n"
      ],
      "metadata": {
        "id": "skXxSnDyaF8-"
      }
    },
    {
      "cell_type": "markdown",
      "source": [
        "**Operaciones matématicas**\n",
        "En este apartado se construyen cada una de las operaciones mátematicas que se utilizarán posteriormente cuando el usuario ingrese una lista de número para operar.  Se construyen una lista de operaciones arimeticas, extendidas, trigonometicas y estadísticas."
      ],
      "metadata": {
        "id": "G_59TDgGcv50"
      }
    },
    {
      "cell_type": "code",
      "execution_count": 2,
      "metadata": {
        "id": "HzesKauiYUgh"
      },
      "outputs": [],
      "source": [
        " ##### Operaciones aritméticas\n",
        "\n",
        "##### Esta función auxiliar permite  sumar una lista de números ingresados por el usuario\n",
        " def suma(lst_numbers):\n",
        "    total = 0\n",
        "    for number in lst_numbers:\n",
        "        total = total + number\n",
        "    return total\n",
        "\n",
        "##### Esta función auxiliar permite restar una lista de dos números ingresados por el usuario\n",
        " def resta(lst_numbers):\n",
        "     return lst_numbers[0] - lst_numbers[1]\n",
        "\n",
        "#### Esta función auxiliar permite dividir una lista de dos números ingresados por el usuario\n",
        " def division(lst_numbers):\n",
        "     return lst_numbers[0] / lst_numbers[1]\n",
        "\n",
        "\n",
        "\n",
        "######## Operaciones aritméticas extendidas\n",
        "\n",
        "#### Esta función auxiliar permite realizar una división entera de una lista de  dos números ingresados por el usuario\n",
        "def divisionentera(lst_numbers):\n",
        "     return lst_numbers[0] // lst_numbers[1]\n",
        "\n",
        "\n",
        "#### Esta función auxiliar permite  sacar el valor factorial  de un número\n",
        "def factorial(n):\n",
        "    if n == 0:\n",
        "        return 1\n",
        "    else:\n",
        "        return n * factorial(n - 1)\n",
        "\n",
        "#### Esta función auxiliar permite  sacar el valor factorial  de una lista de números ingresados por el usuario\n",
        "def calcular_factoriales(lst_numbers):\n",
        "    resultados = []\n",
        "    for numero in lst_numbers:\n",
        "        resultado = factorial(numero)\n",
        "        resultados.append(resultado)\n",
        "    return resultados\n",
        "\n",
        "####### Operaciones trigonometricas\n",
        "\n",
        "#### Esta función auxiliar permite  obtener el seno de  una lista de números ingresados por el usuario\n",
        "\n",
        "def fun_seno(lst_numbers):\n",
        "\n",
        "    results = []\n",
        "    for number in lst_numbers:\n",
        "        x = number\n",
        "        term = 0.0\n",
        "        for n in range(0, 10):\n",
        "            term = term + (((-1)**n)/factorial(2*n + 1))*(x**(2*n + 1))\n",
        "        results.append(term)\n",
        "\n",
        "    return results\n",
        "\n",
        "####### Operaciones estadisticas\n",
        "\n",
        "#### Esta función auxiliar permite  obtener el promedio de  una lista de números ingresados por el usuario\n",
        "def promedio(lst_numbers):\n",
        "    total = suma(lst_numbers)\n",
        "    return total/len(lst_numbers)\n",
        "\n",
        "\n",
        "\n",
        "\n"
      ]
    },
    {
      "cell_type": "code",
      "execution_count": 3,
      "metadata": {
        "id": "_DXX4JYbRXPn"
      },
      "outputs": [],
      "source": [
        "\n",
        "#### Esta función auxiliar pide al usuario que ingreso una lista de más de dos números separados por espacio y transforma estos números tipo flotante\n",
        "def get_lst_numbers():\n",
        "    try:\n",
        "       s =input(\"Ingrese más de 2 numeros separados por un espacio: \")\n",
        "       lst_numbers = s.split(' ')\n",
        "       lst_numbers = [float(number) for number in lst_numbers]\n",
        "    except:\n",
        "      lst_numbers = []\n",
        "\n",
        "    return lst_numbers\n",
        "\n",
        "###### Esta función auxiliar indica al usuario las opciones disponibles en caso de que ingrese dos números en la lista y se sale si el usuario la opción salir\n",
        "\n",
        "def get_option1():\n",
        "\n",
        "    while(True):\n",
        "       print('indique la operacion a realizar')\n",
        "       print('1. suma')\n",
        "       print('2. resta')\n",
        "       print('3. division')\n",
        "       print('4. division entera')\n",
        "       print('5. Factorial')\n",
        "       print('6. Función trigonómetrica (Seno)')\n",
        "       print('7. promedio')\n",
        "       print('8. salir')\n",
        "       option = int(input(\"\"))\n",
        "\n",
        "       if(option not in [1, 2, 3, 4, 5,6,7,8]):\n",
        "         print('ingrese una opcion valida')\n",
        "       else:\n",
        "         if(option==8):\n",
        "            option = None\n",
        "         break\n",
        "\n",
        "\n",
        "    return option\n",
        "\n",
        "###### Esta función auxiliar indica al usuario las opciones disponibles en caso de que ingrese  más de dos números en la lista y se sale si el usuario la opción salir\n",
        "def get_option2():\n",
        "\n",
        "    while(True):\n",
        "       print('indique la operacion a realizar')\n",
        "       print('1. suma')\n",
        "       print('2. Factorial')\n",
        "       print('3. Función trigonómetrica (Seno)')\n",
        "       print('4. promedio')\n",
        "       print('5. salir')\n",
        "\n",
        "       option = int(input(\"\"))\n",
        "\n",
        "       if(option not in [1, 2, 3, 4,5]):\n",
        "         print('ingrese una opcion valida')########\n",
        "\n",
        "       else:\n",
        "\n",
        "         if(option==5):\n",
        "           option = None\n",
        "         break\n",
        "\n",
        "        ######################\n",
        "\n",
        "    return option\n",
        "\n",
        "\n",
        "###### esta función auxiliar indica las operaciones a realizar en caso de que el usuario seleccione algunas de las operaciones matematicas cuando la lista tiene dos números\n",
        "def apply_group_operation1(lst_numbers, option):\n",
        "    if(option==1):\n",
        "       result = suma(lst_numbers)\n",
        "    elif(option == 2):\n",
        "       result = resta(lst_numbers)\n",
        "    elif(option == 3):\n",
        "       result = division(lst_numbers)\n",
        "    elif(option == 4):\n",
        "       result = divisionentera(lst_numbers)\n",
        "    elif(option == 5):\n",
        "       result = calcular_factoriales(lst_numbers)\n",
        "    elif(option == 6):\n",
        "       result = fun_seno(lst_numbers)\n",
        "    elif(option == 7):\n",
        "       result = promedio(lst_numbers)\n",
        "\n",
        "    return result\n",
        "\n",
        "###### esta función auxiliar indica las operaciones a realizar en caso de que el usuario seleccione algunas de las operaciones matematicas cuando la lista tiene más de dos números\n",
        "def apply_group_operation2(lst_numbers, option):\n",
        "    if(option==1):\n",
        "       result = suma(lst_numbers)\n",
        "    elif(option == 2):\n",
        "       result = calcular_factoriales(lst_numbers)\n",
        "    elif(option == 3):\n",
        "       result = fun_seno(lst_numbers)\n",
        "    elif(option == 4):\n",
        "       result = promedio(lst_numbers)\n",
        "\n",
        "    return result\n",
        "\n",
        "\n"
      ]
    },
    {
      "cell_type": "code",
      "execution_count": null,
      "metadata": {
        "colab": {
          "base_uri": "https://localhost:8080/"
        },
        "id": "Oc5alLJsQISF",
        "outputId": "6f648036-82dc-4d4f-bb7f-e15d6ae84856"
      },
      "outputs": [
        {
          "output_type": "stream",
          "name": "stdout",
          "text": [
            "Ingrese más de 2 numeros separados por un espacio: 1 2 3\n",
            "indique la operacion a realizar\n",
            "1. suma\n",
            "2. Factorial\n",
            "3. Función trigonómetrica (Seno)\n",
            "4. promedio\n",
            "5. salir\n",
            "2\n",
            "resultado:  [1.0, 2.0, 6.0]\n",
            "Ingrese más de 2 numeros separados por un espacio: 1\n",
            "ingrese al menos dos numeros\n",
            "Ingrese más de 2 numeros separados por un espacio: 1 2\n",
            "indique la operacion a realizar\n",
            "1. suma\n",
            "2. resta\n",
            "3. division\n",
            "4. division entera\n",
            "5. Factorial\n",
            "6. Función trigonómetrica (Seno)\n",
            "7. promedio\n",
            "8. salir\n",
            "3\n",
            "resultado:  0.5\n"
          ]
        }
      ],
      "source": [
        "##### Esta es la función principal en la cual se llaman las fnciones auxiliares como el menú de opciones que el usuario tiene disponibles de acuerdo con la cantidad de números en la lista, si son dos número  o más de dos números,\n",
        "#### llama las opciones disponibles para cada una de estas condiciones. Si el usuario no ingresa una opción valida el ciclo se repite hasta que el usuario ingrese una opción valida.\n",
        "\n",
        "while(True):\n",
        "   lst_numbers = get_lst_numbers()\n",
        "   result = None\n",
        "   if(len(lst_numbers) == 2):\n",
        "         option = get_option1()\n",
        "         if(option is None):\n",
        "            break\n",
        "         result = apply_group_operation1(lst_numbers, option)\n",
        "   elif(len(lst_numbers) > 2):\n",
        "         option = get_option2()\n",
        "         if(option is None):\n",
        "            break\n",
        "         result = apply_group_operation2(lst_numbers, option)\n",
        "   else:\n",
        "      print('ingrese al menos dos numeros')\n",
        "\n",
        "   if(result is not None):\n",
        "      print('resultado: ', result)\n",
        "\n"
      ]
    },
    {
      "cell_type": "markdown",
      "metadata": {
        "id": "K1osPYzHQJz2"
      },
      "source": []
    }
  ],
  "metadata": {
    "colab": {
      "provenance": []
    },
    "kernelspec": {
      "display_name": "Python 3",
      "name": "python3"
    },
    "language_info": {
      "name": "python"
    }
  },
  "nbformat": 4,
  "nbformat_minor": 0
}