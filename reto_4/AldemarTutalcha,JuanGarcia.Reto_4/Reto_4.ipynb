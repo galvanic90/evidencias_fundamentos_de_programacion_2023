{
  "nbformat": 4,
  "nbformat_minor": 0,
  "metadata": {
    "colab": {
      "provenance": []
    },
    "kernelspec": {
      "name": "python3",
      "display_name": "Python 3"
    },
    "language_info": {
      "name": "python"
    }
  },
  "cells": [
    {
      "cell_type": "code",
      "source": [],
      "metadata": {
        "id": "oFzeKTPL3fmK"
      },
      "execution_count": null,
      "outputs": []
    },
    {
      "cell_type": "markdown",
      "source": [
        "ACTIVIDAD PRÁCTICA\n",
        "\n",
        "**Reto 4**\n"
      ],
      "metadata": {
        "id": "rRjgNgrjbG9T"
      }
    },
    {
      "cell_type": "markdown",
      "source": [
        "\n",
        "**Punto 1**\n",
        "\n",
        "Tome el enunciado y la solución elaborada del reto 3, identifique si aplicó el paradigma funcional, si lo aplicó correctamente, si faltaron funciones o pudieron realizarse otras. Construya un documento que recopile las falencias, aciertos, dudas y dificultades que se le presentaron al aplicar los conceptos del paradigma funcional a la solución del reto 3.\n",
        "\n",
        "En caso de no haber aplicado el paradigma funcional en el reto 3, analice cómo pudiera aplicarlo, qué funciones haría y qué pasos debería seguir para crear la solución bajo este paradigma, y construya un documento tipo texto con los resultados de este análisis y sugerencias, de tal forma que un programador pudiera realizar dicha implementación bajo el paradigma funcional.\n",
        "\n",
        "**Aciertos**\n",
        "\n",
        "El paradigma funcional se aplicó en la medida en que se usaron built-in funcions para la ejecución del código. El uso de print, input, append, len, sum. Por ejemplo, en el uso de append para almacenar los datos de los 5 meses en una nueva lista que almacena los gastos y costos correspondiente a cada mes. Así mismo, en el uso de len para ayudarnos a recorrer una lista, y el uso de sum para sumar todos los datos de la lista de 5 meses y obtener valores netos a lo largo de la duración del cultivo.\n",
        "\n",
        "**Opciones de mejora**\n",
        "\n",
        "Usando el paradigma funcional la mejora se pudo haber realizado creando funciones para mostrar el menú principal y cada uno de los submenús. Como es el caso del submenú de producción, el submenú de costos, los días y gestión del cultivo, para mostrar menú principal y regresar al menú principal logrando que el código quedara mucho más reducido y compacto; y poder retornar las variables requeridas.\n",
        "\n",
        "\n",
        "*   **Creación de submenús y menú principal:**\n",
        "\n",
        "\n",
        "Poniendo como ejemplo el submenú de producción, la idea es declarar la función usando la palabra reservada def, nombrar la función como se desee, abrir y cerrar los paréntesis sin parámetros, permitir que se ingrese por consola el valor en el mercado del cultivo en caso de que se seleccione la opción A y la cantidad recogida en caso de que se seleccione la opción B, para de esta forma retornar los valores ingresados por consola con la función return, teniendo en cuenta que al ingresar un print después del return no se ejecutará. Finalmente, en caso contrario regresar al menú principal.\n",
        "Algo similar a lo anterior puede ser replicado para cada uno de los submenús como es el de costo, información contable y etapas del cultivo.\n",
        "\n",
        "También se pudo reducir el uso del ciclo for ya que la programación funcional se busca la eliminación de su uso y en lugar de esto, creado funciones, usando condicional if y almacenando el valor en listas\n"
      ],
      "metadata": {
        "id": "IXZAlwhEb3Rl"
      }
    },
    {
      "cell_type": "markdown",
      "source": [
        "Punto 2.  Desarrolle una calculadora científica que permita realizar las siguientes operaciones:\n",
        "\n",
        "•\tOperaciones aritméticas básicas: las operaciones aritméticas básicas son suma, resta, multiplicación, división.\n",
        "\n",
        "•\tOperaciones aritméticas extendidas: son la división entera, el residuo, la exponenciación a la n de número, raíz n (n puede ser 2, 3, 4, 5).\n",
        "\n",
        "•\tOperaciones estadísticas básicas: promedio, media, mediana, moda.  \n"
      ],
      "metadata": {
        "id": "uISlZRDab6cK"
      }
    },
    {
      "cell_type": "markdown",
      "source": [],
      "metadata": {
        "id": "9zVH469cbGdU"
      }
    },
    {
      "cell_type": "code",
      "source": [
        "from IPython.core.display import set_matplotlib_formats\n",
        "def sumar(a, b):\n",
        "    return a + b\n",
        "\n",
        "def restar(a, b):\n",
        "    return a - b\n",
        "\n",
        "def multiplicar(a, b):\n",
        "    return a * b\n",
        "\n",
        "def dividir(a, b):\n",
        "    if b != 0:\n",
        "        return a / b\n",
        "    else:\n",
        "        return \"Error: división por cero\"\n",
        "\n",
        "\n",
        "def mostrar_menu(nombre, opciones):  # Se incorpora el parámetro para mostrar el nombre del menú\n",
        "    print(f'# {nombre}. Seleccione una opción:')\n",
        "    for clave in sorted(opciones):\n",
        "        print(f' {clave}) {opciones[clave][0]}')\n",
        "\n",
        "\n",
        "def leer_opcion(opciones):\n",
        "    while (a := input('Opción: ')) not in opciones:\n",
        "        print('Opción incorrecta, vuelva a intentarlo.')\n",
        "    return a\n",
        "\n",
        "\n",
        "def ejecutar_opcion(opcion, opciones):\n",
        "    opciones[opcion][1]()\n",
        "\n",
        "\n",
        "def generar_menu(nombre, opciones, opcion_salida):  # Se incorpora el parámetro para mostrar el nombre del menú\n",
        "    opcion = None\n",
        "    while opcion != opcion_salida:\n",
        "        mostrar_menu(nombre, opciones)\n",
        "        opcion = leer_opcion(opciones)\n",
        "        ejecutar_opcion(opcion, opciones)\n",
        "        print()\n",
        "\n",
        "\n",
        "def menu_principal():\n",
        "    opciones = {\n",
        "        '1': ('1.Operaciones aritmeticas basicas >', submenu ),\n",
        "        '2': ('2.Operaciones estadisticas basicas >', submenu2),  # La acción es una llamada a submenu que genera un nuevo menú\n",
        "        '3': ('3.Operaciones aritmeticas extendidas', funcion3),\n",
        "        '4': ('4.Salir',salir)\n",
        "\n",
        "    }\n",
        "\n",
        "\n",
        "    generar_menu('Menú principal', opciones, '4')  # Se devuelve al menú principal\n",
        "\n",
        "\n",
        "def submenu():\n",
        "    opciones = {\n",
        "        'a': ('1.1 Sumar', funcionA),\n",
        "        'b': ('1.2 Restar', funcionB),\n",
        "        'c': ('1.3 Multiplicar', funcionC),\n",
        "        'd': ('1.4 Dividir', funcionD),\n",
        "        'e': ('Volver al menú principal', salir)\n",
        "    }\n",
        "\n",
        "    generar_menu('Submenú', opciones, 'e')  # Se indica el nombre del submenú\n",
        "\n",
        "\n",
        "def submenu2():\n",
        "    opciones = {\n",
        "        'a': ('2.1 Moda'),\n",
        "        'b': ('2.2 Media'),\n",
        "        'c': ('2.3 Mediana', funcionC),\n",
        "        'e': ('Volver al menú principal', salir)\n",
        "    }\n",
        "\n",
        "    generar_menu('Submenú', opciones, 'e')  # Indica el nombre del submenú\n",
        "\n",
        "\n",
        "# A partir de aquí se crea las funciones que ejecutan las acciones de los menús\n",
        "\n",
        "\n",
        "if __name__ == '__main__':\n",
        "    menu_principal() # inicia el programa mostrando el menú principal\n",
        "\n",
        "#submenu de Operaciones aritmeticas basicas\n",
        "def calcular ():\n",
        "\n",
        "    while True:\n",
        "   opcion = input(\"Seleccione una opción (a-e): \")\n",
        "\n",
        "        if opcion in ['a', 'b', 'c', 'd']:\n",
        "         num1 = float(input(\"Ingrese el primer número: \"))\n",
        "         num2 = float(input(\"Ingrese el segundo número: \"))\n",
        "\n",
        "            if opcion == 'a':\n",
        "                resultado = sumar(num1, num2)\n",
        "                print(\"El resultado es:\", resultado)\n",
        "            elif opcion == 'b':\n",
        "                resultado = restar(num1, num2)\n",
        "                print(\"El resultado es:\", resultado)\n",
        "            elif opcion == 'c':\n",
        "                resultado = multiplicar(num1, num2)\n",
        "                print(\"El resultado es:\", resultado)\n",
        "            else:\n",
        "                resultado = dividir(num1, num2)\n",
        "                print(\"El resultado es:\", resultado)\n",
        "        elif opcion == 'e':\n",
        "            print(\"¡Vuelva pronto!\")\n",
        "            break\n",
        "        else:\n",
        "            print(\"Opción inválida. Por favor, seleccione una opción válida.\")\n",
        "\n",
        "calcular()\n",
        "\n",
        "#SE INTENTO RESOLVER PERO HAY ERRORES QUE PERSISTEN EN EL CODIGO, ES POR ESO QUE LE ENNVIAMOS UN CORREO A UD PIDIENDO MAS PLAZO PARA CORREGIR, SIN EMBARGO\n",
        "#ENTREGAMOS ESTE PARA TENER CONSTANCIA QUE SI TRABAJAMOS\n",
        "\n"
      ],
      "metadata": {
        "colab": {
          "base_uri": "https://localhost:8080/",
          "height": 141
        },
        "id": "CRvyGRhE5jEj",
        "outputId": "25beb72f-64a1-4bd1-98d4-cf9bf643b822"
      },
      "execution_count": 147,
      "outputs": [
        {
          "output_type": "error",
          "ename": "IndentationError",
          "evalue": "ignored",
          "traceback": [
            "\u001b[0;36m  File \u001b[0;32m\"<tokenize>\"\u001b[0;36m, line \u001b[0;32m89\u001b[0m\n\u001b[0;31m    opcion = input(\"Seleccione una opción (a-e): \")\u001b[0m\n\u001b[0m    ^\u001b[0m\n\u001b[0;31mIndentationError\u001b[0m\u001b[0;31m:\u001b[0m unindent does not match any outer indentation level\n"
          ]
        }
      ]
    }
  ]
}