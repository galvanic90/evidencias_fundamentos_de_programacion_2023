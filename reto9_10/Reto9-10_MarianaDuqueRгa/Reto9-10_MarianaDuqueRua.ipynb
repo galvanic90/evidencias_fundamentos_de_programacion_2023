{
 "cells": [
  {
   "cell_type": "markdown",
   "id": "bfd6dc7b",
   "metadata": {},
   "source": [
    "# RETO # 9 - 10\n",
    "### Mariana Duque Rúa\n",
    "### C.C. 1214747015\n",
    "### mariana.duque3@udea.edu.co"
   ]
  },
  {
   "cell_type": "markdown",
   "id": "1b314a12",
   "metadata": {},
   "source": [
    "Importando la librería y cargando el archivo"
   ]
  },
  {
   "cell_type": "code",
   "execution_count": 42,
   "id": "05667943",
   "metadata": {},
   "outputs": [
    {
     "name": "stderr",
     "output_type": "stream",
     "text": [
      "C:\\Users\\maria\\AppData\\Local\\Temp\\ipykernel_10012\\1743919114.py:5: DtypeWarning: Columns (16) have mixed types. Specify dtype option on import or set low_memory=False.\n",
      "  df = pd.read_csv('database.csv')\n"
     ]
    }
   ],
   "source": [
    "import pandas as pd\n",
    "\n",
    "# Cargar el archivo database.csv en un DataFrame\n",
    "\n",
    "df = pd.read_csv('database.csv')"
   ]
  },
  {
   "cell_type": "code",
   "execution_count": 8,
   "id": "b925feab",
   "metadata": {
    "scrolled": true
   },
   "outputs": [
    {
     "name": "stdout",
     "output_type": "stream",
     "text": [
      "City\n",
      "Cook           107\n",
      "Washington     102\n",
      "Montgomery     101\n",
      "Los Angeles     96\n",
      "Allegheny       96\n",
      "Name: Agency Name, dtype: int64\n"
     ]
    }
   ],
   "source": [
    "# 1. listar las cinco primeras ciudades con el mayor número de agencias.\n",
    "\n",
    "ciudades_con_mas_agencias = df.groupby('City')['Agency Name'].nunique().sort_values(ascending=False).head(5)\n",
    "\n",
    "print(ciudades_con_mas_agencias)"
   ]
  },
  {
   "cell_type": "code",
   "execution_count": 9,
   "id": "2cc60edd",
   "metadata": {},
   "outputs": [
    {
     "name": "stdout",
     "output_type": "stream",
     "text": [
      "47              Jefferson\n",
      "48              Jefferson\n",
      "49              Jefferson\n",
      "50              Jefferson\n",
      "51              Jefferson\n",
      "               ...       \n",
      "638445     Lincoln County\n",
      "638446     Natrona County\n",
      "638449        Park County\n",
      "638450    Sheridan County\n",
      "638452    Sublette County\n",
      "Name: Agency Name, Length: 105322, dtype: object\n"
     ]
    }
   ],
   "source": [
    "# 2. De los tipos de agencia, determinar las de tipo Sheriff y mostrar el nombre\n",
    "\n",
    "agencias_sheriff = df[df['Agency Type'] == 'Sheriff']['Agency Name']\n",
    "\n",
    "print(agencias_sheriff)"
   ]
  },
  {
   "cell_type": "code",
   "execution_count": 13,
   "id": "95d8681f",
   "metadata": {},
   "outputs": [
    {
     "name": "stdout",
     "output_type": "stream",
     "text": [
      "Estado: Texas, Crímenes perpetrados por mujeres: 5217, Total de crímenes en el estado: 62095\n",
      "Estado: California, Crímenes perpetrados por mujeres: 5215, Total de crímenes en el estado: 99783\n",
      "Estado: Florida, Crímenes perpetrados por mujeres: 2824, Total de crímenes en el estado: 37164\n",
      "Estado: New York, Crímenes perpetrados por mujeres: 2339, Total de crímenes en el estado: 49268\n",
      "Estado: Michigan, Crímenes perpetrados por mujeres: 2241, Total de crímenes en el estado: 28448\n"
     ]
    }
   ],
   "source": [
    "# 3. Listar los estados más afectados por crímenes perpetrados por mujeres, primeros 5 estados.\n",
    "\n",
    "# Filtrar las filas donde el sexo del perpetrador es femenino ('Female')\n",
    "crimenes_mujeres = df[df['Perpetrator Sex'] == 'Female']\n",
    "\n",
    "# Agrupar por estado y contar el número de crímenes perpetrados por mujeres en cada estado\n",
    "crimenes_por_estado = crimenes_mujeres.groupby('State')['Record ID'].count()\n",
    "\n",
    "# Obtener los primeros cinco estados más afectados por crímenes perpetrados por mujeres\n",
    "top_5_estados_afectados = crimenes_por_estado.nlargest(5)\n",
    "\n",
    "# Mostrar los cinco primeros estados más afectados, la cantidad de crímenes perpetrados por mujeres y la cantidad total de crímenes en esos estados\n",
    "for estado, crimenes in top_5_estados_afectados.items():\n",
    "    total_crimenes_estado = df[df['State'] == estado]['Record ID'].count()\n",
    "    print(f\"Estado: {estado}, Crímenes perpetrados por mujeres: {crimenes}, Total de crímenes en el estado: {total_crimenes_estado}\")"
   ]
  },
  {
   "cell_type": "code",
   "execution_count": 14,
   "id": "b5743581",
   "metadata": {},
   "outputs": [
    {
     "name": "stdout",
     "output_type": "stream",
     "text": [
      "Estado: California, Crímenes perpetrados por hombres: 58199, Total de crímenes en el estado: 99783\n",
      "Estado: Texas, Crímenes perpetrados por hombres: 42198, Total de crímenes en el estado: 62095\n",
      "Estado: New York, Crímenes perpetrados por hombres: 24317, Total de crímenes en el estado: 49268\n",
      "Estado: Florida, Crímenes perpetrados por hombres: 23610, Total de crímenes en el estado: 37164\n",
      "Estado: Michigan, Crímenes perpetrados por hombres: 16773, Total de crímenes en el estado: 28448\n"
     ]
    }
   ],
   "source": [
    "# 4. Listar los estados más afectados por crímenes perpetrados por hombres, primeros 5 estados.\n",
    "\n",
    "# Filtrar las filas donde el sexo del perpetrador es masculino ('Male')\n",
    "crimenes_hombres = df[df['Perpetrator Sex'] == 'Male']\n",
    "\n",
    "# Agrupar por estado y contar el número de crímenes perpetrados por hombres en cada estado\n",
    "crimenes_por_estado_hombres = crimenes_hombres.groupby('State')['Record ID'].count()\n",
    "\n",
    "# Obtener los primeros cinco estados más afectados por crímenes perpetrados por hombres\n",
    "top_5_estados_afectados_hombres = crimenes_por_estado_hombres.nlargest(5)\n",
    "\n",
    "# Mostrar los cinco primeros estados más afectados, la cantidad de crímenes perpetrados por hombres y la cantidad total de crímenes en esos estados\n",
    "for estado, crimenes_hombres in top_5_estados_afectados_hombres.items():\n",
    "    total_crimenes_estado = df[df['State'] == estado]['Record ID'].count()\n",
    "    print(f\"Estado: {estado}, Crímenes perpetrados por hombres: {crimenes_hombres}, Total de crímenes en el estado: {total_crimenes_estado}\")"
   ]
  },
  {
   "cell_type": "code",
   "execution_count": 15,
   "id": "3e48e5b6",
   "metadata": {},
   "outputs": [
    {
     "name": "stdout",
     "output_type": "stream",
     "text": [
      "Número exacto de crímenes perpetrados por mujeres de raza Asian/Pacific Islander: 577\n"
     ]
    }
   ],
   "source": [
    "# 5. Determinar el número exacto del número de crímenes hechos por mujeres de raza Asian/Pacific Islander.\n",
    "\n",
    "# Filtrar las filas donde el sexo del perpetrador es femenino ('Female') y la raza es 'Asian/Pacific Islander'\n",
    "crimenes_mujeres_asian = df[(df['Perpetrator Sex'] == 'Female') & (df['Perpetrator Race'] == 'Asian/Pacific Islander')]\n",
    "\n",
    "# Contar el número exacto de crímenes perpetrados por mujeres de raza Asian/Pacific Islander\n",
    "numero_crimenes_mujeres_asian = crimenes_mujeres_asian.shape[0]\n",
    "\n",
    "# Mostrar el número exacto de crímenes perpetrados por mujeres de raza Asian/Pacific Islander\n",
    "print(\"Número exacto de crímenes perpetrados por mujeres de raza Asian/Pacific Islander:\", numero_crimenes_mujeres_asian)"
   ]
  },
  {
   "cell_type": "code",
   "execution_count": 16,
   "id": "23533172",
   "metadata": {},
   "outputs": [
    {
     "name": "stdout",
     "output_type": "stream",
     "text": [
      "Raza más criminal: White\n",
      "Cantidad de crímenes perpetrados por esa raza: 218243\n"
     ]
    }
   ],
   "source": [
    "# 6. Determinar la raza más criminal.\n",
    "\n",
    "# Contar el número de crímenes por cada raza de los perpetradores\n",
    "razas_criminales = df['Perpetrator Race'].value_counts()\n",
    "\n",
    "# Obtener la raza más criminal (la que aparece con mayor frecuencia)\n",
    "raza_mas_criminal = razas_criminales.idxmax()\n",
    "\n",
    "# Mostrar la raza más criminal y la cantidad de crímenes perpetrados por esa raza\n",
    "print(\"Raza más criminal:\", raza_mas_criminal)\n",
    "print(\"Cantidad de crímenes perpetrados por esa raza:\", razas_criminales.max())"
   ]
  },
  {
   "cell_type": "code",
   "execution_count": 19,
   "id": "96a65365",
   "metadata": {},
   "outputs": [
    {
     "name": "stdout",
     "output_type": "stream",
     "text": [
      "Número exacto de hispanos que han asesinado mediante la estrangulación: 440\n"
     ]
    }
   ],
   "source": [
    "# 7. Determinar el número exacto de hispanos que han asesinado mediante la estrangulación.\n",
    "\n",
    "# Filtrar las filas donde el perpetrador es de raza 'Hispanic' y el método de asesinato es 'Strangulation'\n",
    "homicidios_hispanos_estrangulacion = df[(df['Perpetrator Ethnicity'] == 'Hispanic') & (df['Weapon'] == 'Strangulation')]\n",
    "\n",
    "# Contar el número exacto de hispanos que han asesinado mediante la estrangulación\n",
    "numero_hispanos_estrangulacion = homicidios_hispanos_estrangulacion.shape[0]\n",
    "\n",
    "# Mostrar el número exacto de hispanos que han asesinado mediante la estrangulación\n",
    "print(\"Número exacto de hispanos que han asesinado mediante la estrangulación:\", numero_hispanos_estrangulacion)"
   ]
  },
  {
   "cell_type": "code",
   "execution_count": 22,
   "id": "7407d4a1",
   "metadata": {},
   "outputs": [
    {
     "name": "stdout",
     "output_type": "stream",
     "text": [
      "Tipo de relación más peligrosa en homicidios con escopetas: Acquaintance\n",
      "Cantidad de homicidios con escopetas por esa relación: 8028\n"
     ]
    }
   ],
   "source": [
    "# 8. Determinar el tipo de relación más peligrosa, el cual comete más homicidios con armas de tipo Shotgun=escopeta\n",
    "\n",
    "# Filtrar las filas donde el arma utilizada es 'Shotgun'\n",
    "homicidios_escopeta = df[df['Weapon'] == 'Shotgun']\n",
    "\n",
    "# Contar el número de homicidios por tipo de relación para los casos con escopetas\n",
    "relaciones_peligrosas_escopeta = homicidios_escopeta['Relationship'].value_counts()\n",
    "\n",
    "# Obtener el tipo de relación más peligrosa para los homicidios con escopetas\n",
    "relacion_mas_peligrosa_escopeta = relaciones_peligrosas_escopeta.idxmax()\n",
    "\n",
    "# Mostrar el tipo de relación más peligrosa y la cantidad de homicidios cometidos con escopetas por esa relación\n",
    "print(\"Tipo de relación más peligrosa en homicidios con escopetas:\", relacion_mas_peligrosa_escopeta)\n",
    "print(\"Cantidad de homicidios con escopetas por esa relación:\", relaciones_peligrosas_escopeta.max())"
   ]
  },
  {
   "cell_type": "code",
   "execution_count": 23,
   "id": "34c65556",
   "metadata": {},
   "outputs": [
    {
     "name": "stdout",
     "output_type": "stream",
     "text": [
      "Sexo que ha cometido más homicidios con veneno: Male\n",
      "Cantidad de homicidios con veneno por ese sexo: 221\n"
     ]
    }
   ],
   "source": [
    "# 9. Cuál es el sexo que más homicidios ha cometido con Veneno = Poison\n",
    "\n",
    "# Filtrar las filas donde el arma utilizada es 'Poison'\n",
    "homicidios_veneno = df[df['Weapon'] == 'Poison']\n",
    "\n",
    "# Contar el número de homicidios por sexo para los casos con veneno\n",
    "homicidios_por_sexo_veneno = homicidios_veneno['Perpetrator Sex'].value_counts()\n",
    "\n",
    "# Obtener el sexo que ha cometido más homicidios con veneno\n",
    "sexo_mas_criminal_veneno = homicidios_por_sexo_veneno.idxmax()\n",
    "\n",
    "# Mostrar el sexo que ha cometido más homicidios con veneno y la cantidad de homicidios por ese sexo\n",
    "print(\"Sexo que ha cometido más homicidios con veneno:\", sexo_mas_criminal_veneno)\n",
    "print(\"Cantidad de homicidios con veneno por ese sexo:\", homicidios_por_sexo_veneno.max())"
   ]
  },
  {
   "cell_type": "code",
   "execution_count": 24,
   "id": "6bbfd656",
   "metadata": {},
   "outputs": [
    {
     "name": "stdout",
     "output_type": "stream",
     "text": [
      "Cantidad de asesinos de raza negra en el DataFrame: 214516\n"
     ]
    }
   ],
   "source": [
    "# 10. Cuántos asesinos de raza negra atrapó el FBI.\n",
    "\n",
    "# Filtrar las filas donde la raza del perpetrador es 'Black'\n",
    "asesinos_raza_negra = df[df['Perpetrator Race'] == 'Black']\n",
    "\n",
    "# Contar la cantidad de asesinos de raza negra\n",
    "cantidad_asesinos_raza_negra = asesinos_raza_negra.shape[0]\n",
    "\n",
    "# Mostrar la cantidad de asesinos de raza negra en el DataFrame\n",
    "print(\"Cantidad de asesinos de raza negra en el DataFrame:\", cantidad_asesinos_raza_negra)"
   ]
  },
  {
   "cell_type": "code",
   "execution_count": 27,
   "id": "4c5e1f59",
   "metadata": {},
   "outputs": [
    {
     "name": "stdout",
     "output_type": "stream",
     "text": [
      "Número de víctimas hispanas por tipo de arma:\n",
      "Handgun          41145\n",
      "Knife            11643\n",
      "Blunt Object      5732\n",
      "Firearm           4534\n",
      "Shotgun           2872\n",
      "Rifle             2850\n",
      "Unknown           2148\n",
      "Strangulation      689\n",
      "Fire               409\n",
      "Suffocation        316\n",
      "Drowning           119\n",
      "Gun                101\n",
      "Drugs               47\n",
      "Poison              26\n",
      "Explosives          12\n",
      "Fall                 9\n",
      "Name: Weapon, dtype: int64\n"
     ]
    }
   ],
   "source": [
    "# 11. Cuántas víctimas de tipo hispanas han muerto y porque tipo de medio (arma blanca, arma de fuego, etc).\n",
    "\n",
    "# Filtrar las filas donde el origen de la víctima es 'Hispanic'\n",
    "victimas_hispanas = df[df['Victim Ethnicity'] == 'Hispanic']\n",
    "\n",
    "# Contar el número de víctimas hispanas y agrupar por tipo de arma utilizado\n",
    "victimas_por_arma = victimas_hispanas['Weapon'].value_counts()\n",
    "\n",
    "# Mostrar la cantidad de víctimas hispanas por tipo de arma\n",
    "print(\"Número de víctimas hispanas por tipo de arma:\")\n",
    "print(victimas_por_arma)"
   ]
  },
  {
   "cell_type": "code",
   "execution_count": 31,
   "id": "68d9e921",
   "metadata": {},
   "outputs": [
    {
     "name": "stdout",
     "output_type": "stream",
     "text": [
      "Información del asesino más viejo:\n",
      "Record ID                                  2410\n",
      "Agency Code                             CA01942\n",
      "Agency Name                         Los Angeles\n",
      "Agency Type                    Municipal Police\n",
      "City                                Los Angeles\n",
      "State                                California\n",
      "Year                                       1980\n",
      "Month                                     April\n",
      "Incident                                     72\n",
      "Crime Type               Murder or Manslaughter\n",
      "Crime Solved                                Yes\n",
      "Victim Sex                                 Male\n",
      "Victim Age                                   24\n",
      "Victim Race                               White\n",
      "Victim Ethnicity                        Unknown\n",
      "Perpetrator Sex                            Male\n",
      "Perpetrator Age                            99.0\n",
      "Perpetrator Race                        Unknown\n",
      "Perpetrator Ethnicity                   Unknown\n",
      "Relationship                           Stranger\n",
      "Weapon                                  Handgun\n",
      "Victim Count                                  0\n",
      "Perpetrator Count                             1\n",
      "Record Source                               FBI\n",
      "Name: 2409, dtype: object\n"
     ]
    }
   ],
   "source": [
    "# 12. Cuál ha sido el asesino más viejo.\n",
    "\n",
    "# Eliminar filas con valores faltantes en la columna 'Perpetrator Age'\n",
    "df_cleaned = df.dropna(subset=['Perpetrator Age'])\n",
    "\n",
    "# Convertir la columna 'Perpetrator Age' a tipo numérico\n",
    "df_cleaned['Perpetrator Age'] = pd.to_numeric(df_cleaned['Perpetrator Age'], errors='coerce')\n",
    "\n",
    "# Eliminar filas con valores no numéricos en la columna 'Perpetrator Age'\n",
    "df_cleaned = df_cleaned.dropna(subset=['Perpetrator Age'])\n",
    "\n",
    "# Encontrar el asesino más viejo\n",
    "asesino_mas_viejo = df_cleaned.loc[df_cleaned['Perpetrator Age'].idxmax()]\n",
    "\n",
    "# Mostrar la información del asesino más viejo\n",
    "print(\"Información del asesino más viejo:\")\n",
    "print(asesino_mas_viejo)"
   ]
  },
  {
   "cell_type": "code",
   "execution_count": 32,
   "id": "24b5477f",
   "metadata": {},
   "outputs": [
    {
     "name": "stdout",
     "output_type": "stream",
     "text": [
      "Información del asesino más joven:\n",
      "Record ID                                            3\n",
      "Agency Code                                    AK00101\n",
      "Agency Name                                  Anchorage\n",
      "Agency Type                           Municipal Police\n",
      "City                                         Anchorage\n",
      "State                                           Alaska\n",
      "Year                                              1980\n",
      "Month                                            March\n",
      "Incident                                             2\n",
      "Crime Type                      Murder or Manslaughter\n",
      "Crime Solved                                        No\n",
      "Victim Sex                                      Female\n",
      "Victim Age                                          30\n",
      "Victim Race              Native American/Alaska Native\n",
      "Victim Ethnicity                               Unknown\n",
      "Perpetrator Sex                                Unknown\n",
      "Perpetrator Age                                    0.0\n",
      "Perpetrator Race                               Unknown\n",
      "Perpetrator Ethnicity                          Unknown\n",
      "Relationship                                   Unknown\n",
      "Weapon                                         Unknown\n",
      "Victim Count                                         0\n",
      "Perpetrator Count                                    0\n",
      "Record Source                                      FBI\n",
      "Name: 2, dtype: object\n"
     ]
    }
   ],
   "source": [
    "# 13. Cuál ha sido el asesino más joven\n",
    "\n",
    "# Encontrar el asesino más joven\n",
    "asesino_mas_joven = df_cleaned.loc[df_cleaned['Perpetrator Age'].idxmin()]\n",
    "\n",
    "# Mostrar la información del asesino más joven\n",
    "print(\"Información del asesino más joven:\")\n",
    "print(asesino_mas_joven)"
   ]
  },
  {
   "cell_type": "code",
   "execution_count": 33,
   "id": "a9de71f3",
   "metadata": {},
   "outputs": [
    {
     "name": "stdout",
     "output_type": "stream",
     "text": [
      "Total de homicidios desde 1995 hasta 2000: 103295\n"
     ]
    }
   ],
   "source": [
    "# 14. Cuál es el total de homicidios desde el año 1995 hasta el año 2000 (ADVERTENCIA – META CONSULTAS DE TIPO KILLER).\n",
    "\n",
    "# Convertir la columna 'Year' a tipo numérico\n",
    "df['Year'] = pd.to_numeric(df['Year'], errors='coerce')\n",
    "\n",
    "# Filtrar las filas donde el año está entre 1995 y 2000, ambos inclusive\n",
    "homicidios_1995_2000 = df[(df['Year'] >= 1995) & (df['Year'] <= 2000)]\n",
    "\n",
    "# Calcular el total de homicidios durante ese período\n",
    "total_homicidios_1995_2000 = homicidios_1995_2000.shape[0]\n",
    "\n",
    "# Mostrar el total de homicidios desde 1995 hasta 2000\n",
    "print(\"Total de homicidios desde 1995 hasta 2000:\", total_homicidios_1995_2000)"
   ]
  },
  {
   "cell_type": "code",
   "execution_count": 34,
   "id": "92f2a0fc",
   "metadata": {},
   "outputs": [
    {
     "name": "stdout",
     "output_type": "stream",
     "text": [
      "Total de homicidios perpetrados por hombres de raza negra utilizando sofocación desde 1995 hasta 2000: 96\n"
     ]
    }
   ],
   "source": [
    "# 15. Cuál es el total de homicidios desde el año 1995 hasta el año 2000 perpetrado por hombres de raza negra por sofocacion=Suffocation.\n",
    "\n",
    "# Filtrar las filas donde el año está entre 1995 y 2000, el perpetrador es de raza negra y el método es 'Suffocation'\n",
    "homicidios_1995_2000_negros_sofocacion = df[(df['Year'] >= 1995) & (df['Year'] <= 2000) & \n",
    "                                             (df['Perpetrator Sex'] == 'Male') & \n",
    "                                             (df['Perpetrator Race'] == 'Black') & \n",
    "                                             (df['Weapon'] == 'Suffocation')]\n",
    "\n",
    "# Calcular el total de homicidios perpetrados por hombres de raza negra utilizando sofocación desde 1995 hasta 2000\n",
    "total_homicidios_negros_sofocacion_1995_2000 = homicidios_1995_2000_negros_sofocacion.shape[0]\n",
    "\n",
    "# Mostrar el total de homicidios perpetrados por hombres de raza negra utilizando sofocación desde 1995 hasta 2000\n",
    "print(\"Total de homicidios perpetrados por hombres de raza negra utilizando sofocación desde 1995 hasta 2000:\", total_homicidios_negros_sofocacion_1995_2000)"
   ]
  },
  {
   "cell_type": "code",
   "execution_count": 36,
   "id": "81074a8f",
   "metadata": {},
   "outputs": [
    {
     "name": "stdout",
     "output_type": "stream",
     "text": [
      "Total de homicidios anteriores a 1980 perpetrados por hombres del estado de Alaska de raza negra: 2\n"
     ]
    }
   ],
   "source": [
    "# 16. Determinar los homicidios anteriores a 1980 perpetrados por hombres del estado de Alaska de raza negra.\n",
    "# Debido a que no se tienen datos atenriores a 1980, el cálculo se hará para el año 1980.\n",
    "\n",
    "# Filtrar las filas donde el año es anterior a 1980, el perpetrador es de raza negra, el sexo del perpetrador es masculino y el estado es Alaska\n",
    "homicidios_antes_1980_alaska_negros = df[(df['Year'] == 1980) & \n",
    "                                          (df['Perpetrator Sex'] == 'Male') & \n",
    "                                          (df['Perpetrator Race'] == 'Black') & \n",
    "                                          (df['State'] == 'Alaska')]\n",
    "\n",
    "# Calcular el total de homicidios anteriores a 1980 perpetrados por hombres del estado de Alaska de raza negra\n",
    "total_homicidios_antiguos_alaska_negros = homicidios_antes_1980_alaska_negros.shape[0]\n",
    "\n",
    "# Mostrar el total de homicidios anteriores a 1980 perpetrados por hombres del estado de Alaska de raza negra\n",
    "print(\"Total de homicidios anteriores a 1980 perpetrados por hombres del estado de Alaska de raza negra:\", total_homicidios_antiguos_alaska_negros)"
   ]
  },
  {
   "cell_type": "code",
   "execution_count": 37,
   "id": "5ba1ff1b",
   "metadata": {},
   "outputs": [
    {
     "name": "stdout",
     "output_type": "stream",
     "text": [
      "Total de homicidios perpetrados por la policía municipal de la ciudad de Nueva York con relación 'Ex-Wife', utilizando estrangulación y en el estado de Nueva York: 1\n"
     ]
    }
   ],
   "source": [
    "# 17. Determinar los homicidios de la policía municipal de la ciudad de Nueva York del cual hayan sido por relaciones de tipo Ex-Wife, y además que su arma haya sido la estrangulacion=Strangulation.\n",
    "\n",
    "# Filtrar las filas donde el Agency Type es 'Municipal Police', la relación es 'Ex-Wife', el arma es 'Strangulation' y el estado es 'New York'\n",
    "homicidios_nypd_exwife_strangulation_ny = df[(df['Agency Type'] == 'Municipal Police') & \n",
    "                                              (df['Relationship'] == 'Ex-Wife') & \n",
    "                                              (df['Weapon'] == 'Strangulation') & \n",
    "                                              (df['State'] == 'New York')]\n",
    "\n",
    "# Calcular el total de homicidios en estas condiciones\n",
    "total_homicidios_nypd_exwife_strangulation_ny = homicidios_nypd_exwife_strangulation_ny.shape[0]\n",
    "\n",
    "# Mostrar el total de homicidios perpetrados por la policía municipal de la ciudad de Nueva York con relación 'Ex-Wife', utilizando estrangulación y en el estado de Nueva York\n",
    "print(\"Total de homicidios perpetrados por la policía municipal de la ciudad de Nueva York con relación 'Ex-Wife', utilizando estrangulación y en el estado de Nueva York:\", total_homicidios_nypd_exwife_strangulation_ny)"
   ]
  },
  {
   "cell_type": "code",
   "execution_count": 41,
   "id": "c95edf53",
   "metadata": {},
   "outputs": [
    {
     "name": "stdout",
     "output_type": "stream",
     "text": [
      "Cantidad de homicidios ocurridos en 1980 en Illinois donde el grupo étnico de la víctima no es hispano, la relación con el asesino fue de amigos y el arma utilizada fue una escopeta: 1\n",
      "                                         7585\n",
      "Record ID                                7586\n",
      "Agency Code                           IL06000\n",
      "Agency Name                           Madison\n",
      "Agency Type                           Sheriff\n",
      "City                                  Madison\n",
      "State                                Illinois\n",
      "Year                                     1980\n",
      "Month                                    July\n",
      "Incident                                    3\n",
      "Crime Type             Murder or Manslaughter\n",
      "Crime Solved                              Yes\n",
      "Victim Sex                               Male\n",
      "Victim Age                                 23\n",
      "Victim Race                             White\n",
      "Victim Ethnicity                 Not Hispanic\n",
      "Perpetrator Sex                          Male\n",
      "Perpetrator Age                            22\n",
      "Perpetrator Race                        White\n",
      "Perpetrator Ethnicity            Not Hispanic\n",
      "Relationship                           Friend\n",
      "Weapon                                Shotgun\n",
      "Victim Count                                0\n",
      "Perpetrator Count                           0\n",
      "Record Source                             FBI\n"
     ]
    }
   ],
   "source": [
    "# 18. Listar todos los homicidios que hayan ocurrido desde 1980 hasta 1970 en el estado de Illinois del cual el grupo étnico de la víctima no es hispano=Not Hispanic y la relación con el asesino fue de amigos=Friend y el arma utilizada fue una escopeta=Shotgun.\n",
    "# Debido a que no se tienen datos anteriores a 1980, el cálculo se hará para el año 1980.\n",
    "\n",
    "# Filtrar las filas donde el año es 1980, el estado es Illinois, el grupo étnico de la víctima no es hispano, la relación es 'Friend' y el arma es 'Shotgun'\n",
    "homicidios_1980_illinois_no_hispanos_amigos_escopeta = df[(df['Year'] == 1980) & \n",
    "                                                             (df['State'] == 'Illinois') & \n",
    "                                                             (df['Victim Ethnicity'] == 'Not Hispanic') & \n",
    "                                                             (df['Relationship'] == 'Friend') & \n",
    "                                                             (df['Weapon'] == 'Shotgun')]\n",
    "\n",
    "# Calcular la cantidad de homicidios que cumplen con estas condiciones\n",
    "cantidad_homicidios = homicidios_1980_illinois_no_hispanos_amigos_escopeta.shape[0]\n",
    "\n",
    "# Mostrar la cantidad de homicidios\n",
    "print(\"Cantidad de homicidios ocurridos en 1980 en Illinois donde el grupo étnico de la víctima no es hispano, la relación con el asesino fue de amigos y el arma utilizada fue una escopeta:\", cantidad_homicidios)\n",
    "print(homicidios_1980_illinois_no_hispanos_amigos_escopeta.transpose())"
   ]
  }
 ],
 "metadata": {
  "kernelspec": {
   "display_name": "Python 3 (ipykernel)",
   "language": "python",
   "name": "python3"
  },
  "language_info": {
   "codemirror_mode": {
    "name": "ipython",
    "version": 3
   },
   "file_extension": ".py",
   "mimetype": "text/x-python",
   "name": "python",
   "nbconvert_exporter": "python",
   "pygments_lexer": "ipython3",
   "version": "3.9.16"
  }
 },
 "nbformat": 4,
 "nbformat_minor": 5
}
